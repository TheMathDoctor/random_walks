{
  "nbformat": 4,
  "nbformat_minor": 0,
  "metadata": {
    "colab": {
      "name": "qiskit_quantum_walk.ipynb",
      "provenance": [],
      "collapsed_sections": []
    },
    "kernelspec": {
      "name": "python3",
      "display_name": "Python 3"
    }
  },
  "cells": [
    {
      "cell_type": "markdown",
      "metadata": {
        "id": "ImZdRAbrbYlO"
      },
      "source": [
        "In this notebook we explore how to implement a quantum random walk using qiskit. We will compare the distribution of the final position of the quantum to the distribution of the final position of the classical random walk. "
      ]
    },
    {
      "cell_type": "code",
      "metadata": {
        "id": "p6c6mAwQvd0g"
      },
      "source": [
        "!pip install qiskit\n",
        "\n",
        "from IPython.display import clear_output\n",
        "clear_output()"
      ],
      "execution_count": 25,
      "outputs": []
    },
    {
      "cell_type": "code",
      "metadata": {
        "id": "DJJdvaRlv_kR"
      },
      "source": [
        "import numpy as np\n",
        "from qiskit.quantum_info import Operator\n",
        "from qiskit import QuantumCircuit"
      ],
      "execution_count": 26,
      "outputs": []
    },
    {
      "cell_type": "markdown",
      "metadata": {
        "id": "Ad-8wiSvbxV2"
      },
      "source": [
        "Before we begin our discussion of quantum walks, let's revisit classical random walks. In a classical random walk, a particle is placed at the origin. A coin is flipped and if it lands heads, the particle will move one unit to the right, and if it lands on tails, the particle will move one unit to the left. After moving, the coin is flipped again, and the particle moves to the left or right according to the same rules as before. This process is then repeated a desired number of times. After all iterations of the process have completed, one can then look at the final position of the particle. It turns out that in the classical case, the distribution of the final position is given by the Gaussian distribution, but in the quantum case one can arrive at many exotic distributions which depend on the initial state of the system and on the type of \"coin\" that is used. \n"
      ]
    },
    {
      "cell_type": "markdown",
      "metadata": {
        "id": "rCVo7EZxr1PJ"
      },
      "source": [
        "In quantum walks, instead of using a classical where the coin is either heads or tails, we use a qubit that is in some superposition of the states $|0>$ and $|1>$. A common way to accomplish this superposition is initialize the coin qubit to $|0>$ and apply the Hadamard gate to produce $|+>$. This application of the Hadamard gate can be interpretted as a \"quantum coin flip\" (other unitaries besides the hadamard may be used and have varying effects on the distribution, but this is a discussion for later). And instead of shifting to the left or right, a state $|k>$ is sent to either $|k-1>$ or $|k+1>$ depending on the state of the coin. But if our coin is in some superposition of 0 and 1, then the state is $|k>$ is then \"shifted\" into some superposition of $|k-1>$ and $|k+1>$.  We then iterate this process, applying a Hadamard to the coin space and applying our shift operator to the state space. One can see quickly how the outcome of quantum walk might be significantly different from that of a classical walk due to the superposition that is not present in the classical case."
      ]
    },
    {
      "cell_type": "markdown",
      "metadata": {
        "id": "P0Ai2gdYUeU9"
      },
      "source": [
        "To implement this quantum walk, we need to figure out how to compute the shift operator. To construct the operator let's look at a couple of easy cases and see how they might extend. \\\\\n",
        "\n",
        "If we have only one qubit in our state space, then shifting right should sned $|0>$ to $|1>$. But then what should $|1>$ get sent to? Since we only have one qubit, $|1>$ can't be sent to \"$|2>$\" since we only have two dimensions. But we need our shift operator to be unitary if want to be able to implement it in a quantum circuit. And since unitary operators must preserve orthonormality, the only possibility is to send $|1>$ to $|0>$. This causes our walk to \"wrap around\". And indeed this is what will happen when have more qubits to play with as well. Thus for one qubit, our \"shift right\" operator is given by $S_R =|0><1| + |0><1|$, or in matrix form \n",
        "$\\begin{pmatrix}\n",
        "0 & 1 \\\\\n",
        "1 & 0 \\\\\n",
        "\\end{pmatrix}$. \n",
        "\n",
        "Now let's examine what happens with more qubits. Suppose we have two qubits in our state space. Then to shifting right should be the operator that does the following:\n",
        "\n",
        "$|00> \\mapsto |01>$ \\\\\n",
        "\n",
        "$|01> \\mapsto |10>$ \\\\\n",
        "\n",
        "$|10> \\mapsto |11>$ \\\\\n",
        "Then we wrap around again and send $|11>$ to $|00>$. Writing this map as a matrix we see that the shift right operator can be written as \n",
        "$\\begin{pmatrix}\n",
        "0 & 1 & 0 & 0 \\\\\n",
        "0 & 0 & 1 & 0 \\\\\n",
        "0 & 0 & 0 & 1 \\\\\n",
        "1 & 0 & 0 & 0 \\\\\n",
        "\\end{pmatrix}$\n",
        "\n",
        "So it looks like that in both the 1 qubit and 2 qubit case, the shift right operator looks like a creation operator that's been truncated, and the highest energy level gets sent to the lowest. Indeed this pattern continues no matter how many qubit we use in our state space. \n",
        "\n",
        "Next, how do we go left? Well we just define the shift left operator to be the adjoint of the shift right operator i.e., we define $S_L = S_R^*$. This operator will send $|k>$ to $|k-1>$. \n",
        "\n",
        "Now that we've figured out a pattern, let's actually write some code to see how to construct this operator. "
      ]
    },
    {
      "cell_type": "markdown",
      "metadata": {
        "id": "eijdnVq_Z117"
      },
      "source": [
        "The following code creates an $N\\times N$ matrix $M$ with the entries $M_{i,i+1}=1$ for all $i$ between 0 and $N-2$, $M_{N-1,0}=1$, and all other entries are 0. So to implement the creation oeprator on $N$ qubits, we call the function \"creation_operator(2**N)\". "
      ]
    },
    {
      "cell_type": "code",
      "metadata": {
        "id": "eOr1xtcCwYLr"
      },
      "source": [
        "#Create Shift Operator\n",
        " \n",
        "def creation_operator(N):\n",
        "  A = np.zeros((N,N))\n",
        "  for i in range(N-1):\n",
        "    A[i,i+1]=1\n",
        "  A[N-1,0]=1\n",
        "  return A\n",
        "\n",
        "def creation_operator_gate(N):\n",
        "  A = np.zeros((N,N))\n",
        "  for i in range(N-1):\n",
        "    A[i,i+1]=1\n",
        "  A[N-1,0]=1\n",
        "  return Operator(A)"
      ],
      "execution_count": 27,
      "outputs": []
    },
    {
      "cell_type": "markdown",
      "metadata": {
        "id": "Tsr79cW4a3iS"
      },
      "source": [
        "Now that we implemented the creation operator, we need to use it to implement a controlled shift operator $CS$ where $CS$ applies the creation operator if the coin qubit is $|0>$, and applies the annihilation operator when the coin qubit is $|1>$. So in dirac noation, this operator can be expressed as \n",
        "$$CS = |0><0| \\otimes S_R + |1><1|\\otimes S_L $$\n",
        "\n",
        "To implement this operator, we compute the projections onto the spaces spanned by $|0>$ and $|1>$ respectively and use numpy's built in kronecker product formula to tensor the projections with their corresponding shift operators. "
      ]
    },
    {
      "cell_type": "code",
      "metadata": {
        "id": "OwkDjWWTbrJH"
      },
      "source": [
        "#Rank is N+1 x N+1 not NxN\n",
        "def control_shift(N):\n",
        "  A = creation_operator(N)\n",
        "  proj0,proj1 = np.zeros((2,2)), np.zeros((2,2))\n",
        "  proj0[0,0] ,proj1[1,1] = 1, 1\n",
        "  CS = np.kron(proj0,A) + np.kron(proj1, np.transpose(A))\n",
        "  CS = Operator(CS)\n",
        "  return CS"
      ],
      "execution_count": 28,
      "outputs": []
    },
    {
      "cell_type": "markdown",
      "metadata": {
        "id": "RWkLTlcSZ0C9"
      },
      "source": [
        "We have now created all necessary operators for a quantum random walk and we're ready to put them all together to construct a circuit implementing the quantum random walk. The following function builds a circuit that peforms a quantum random walk on N qubits (not including the coin). I have an unused parameter called \"coin\" which would let the user decide what coin to use, but for now I have left out this portion of the code for next tutorial. A future tutorial may cover the affect the type of coin has on a quantum random walk, and I will include this feature.  "
      ]
    },
    {
      "cell_type": "code",
      "metadata": {
        "id": "K-3ejD2pxC_N"
      },
      "source": [
        "#Create random walk circuit\n",
        "#Considers the origin to be (N+1//2,0) so that position states are less likely to wrap around. \n",
        "def quantum_random_walk(N,simulation_time,coin):\n",
        "  #max simultation time without wrap around is 2**(N-1) \n",
        "  walk = QuantumCircuit(N+1)\n",
        "  #shift origin to 2**(N-1)\n",
        "  indices = [k+1 for k in range(N)]\n",
        "  for k in range(2**(N-1)): #was N//2\n",
        "    walk.append(creation_operator_gate(2**N),indices)\n",
        "\n",
        "  #qubit 0 is the control qubit\n",
        "  #h for hadamard coin\n",
        "  CS = control_shift(2**N)\n",
        "  if (coin == 'h'):\n",
        "    for k in range(2**(N-1)):\n",
        "      walk.h(0)\n",
        "      walk.append(CS,range(N+1))\n",
        "  return walk"
      ],
      "execution_count": 29,
      "outputs": []
    },
    {
      "cell_type": "code",
      "metadata": {
        "id": "CrjQz6twvO6Q"
      },
      "source": [
        "#Uae 9 qubits for shifting left and right. And repeat the process 2**(M-1) times to ensure that no overlap happens. \n",
        "M=9\n",
        "simulation_time = 2**(M-1)\n",
        "coin = 'h'"
      ],
      "execution_count": 30,
      "outputs": []
    },
    {
      "cell_type": "code",
      "metadata": {
        "colab": {
          "base_uri": "https://localhost:8080/"
        },
        "id": "AG-1L9USxHOz",
        "outputId": "5b32049e-0c85-4d46-a0f8-9222571b6409"
      },
      "source": [
        "#Build the circuit and run it on the simulator.\n",
        "qc = QuantumCircuit(M,M)\n",
        "qc.append(quantum_random_walk(M-1,simulation_time,'h'),range(M))\n",
        "qc.measure(range(M),range(M))"
      ],
      "execution_count": 31,
      "outputs": [
        {
          "output_type": "execute_result",
          "data": {
            "text/plain": [
              "<qiskit.circuit.instructionset.InstructionSet at 0x7feee04dc518>"
            ]
          },
          "metadata": {
            "tags": []
          },
          "execution_count": 31
        }
      ]
    },
    {
      "cell_type": "code",
      "metadata": {
        "colab": {
          "base_uri": "https://localhost:8080/"
        },
        "id": "-zOXuoa_xHxc",
        "outputId": "82afd5be-ad19-4a13-949b-54ca59600d62"
      },
      "source": [
        "#token hidden, connect to IBMQ\n",
        "\n",
        "\n",
        "from qiskit import IBMQ\n",
        "IBMQ.save_account(token)\n",
        "IBMQ.load_account()\n",
        "provider = IBMQ.get_provider(hub='ibm-q')"
      ],
      "execution_count": 32,
      "outputs": [
        {
          "output_type": "stream",
          "text": [
            "configrc.store_credentials:WARNING:2020-12-21 04:37:44,650: Credentials already present. Set overwrite=True to overwrite.\n",
            "/usr/local/lib/python3.6/dist-packages/qiskit/providers/ibmq/ibmqfactory.py:192: UserWarning: Timestamps in IBMQ backend properties, jobs, and job results are all now in local time instead of UTC.\n",
            "  warnings.warn('Timestamps in IBMQ backend properties, jobs, and job results '\n",
            "ibmqfactory.load_account:WARNING:2020-12-21 04:37:45,524: Credentials are already in use. The existing account in the session will be replaced.\n"
          ],
          "name": "stderr"
        }
      ]
    },
    {
      "cell_type": "markdown",
      "metadata": {
        "id": "RbK7VNyPbXEP"
      },
      "source": [
        ""
      ]
    },
    {
      "cell_type": "code",
      "metadata": {
        "id": "-13BIwDevtMo"
      },
      "source": [
        "from qiskit import Aer, execute\n",
        "simulator = Aer.get_backend('qasm_simulator')\n",
        "counts = execute(qc, simulator).result().get_counts(qc)\n"
      ],
      "execution_count": 33,
      "outputs": []
    },
    {
      "cell_type": "code",
      "metadata": {
        "id": "-Coq0r9IxS3P"
      },
      "source": [
        "#collecting data from simulation.\n",
        "keys = counts.keys()\n",
        "values = counts.values()\n",
        "\n",
        "coin_bit = list(keys)[0][0] #might need later\n",
        "#remove the coin bit, convert to decimal and shift back to the left\n",
        "position =[]\n",
        "for key in keys:\n",
        "  position.append(int(key[1:],2)-128)\n",
        "\n",
        "probabilities = list(values)"
      ],
      "execution_count": 34,
      "outputs": []
    },
    {
      "cell_type": "code",
      "metadata": {
        "id": "AOCN0lvv0eMq"
      },
      "source": [
        "#implements the classical random walk\n",
        "def walk_the_line(N,K,step,p):\n",
        "  position=[]\n",
        "  for n in range(N):\n",
        "    X=0\n",
        "    for k in range(K):\n",
        "      coin = np.random.binomial(1,p)\n",
        "      X=X-step*(-1)**coin\n",
        "    position.append(X)\n",
        "  \n",
        "  return position"
      ],
      "execution_count": 35,
      "outputs": []
    },
    {
      "cell_type": "code",
      "metadata": {
        "colab": {
          "base_uri": "https://localhost:8080/",
          "height": 265
        },
        "id": "npR1utvq10b-",
        "outputId": "c56cd163-ab71-4b97-d451-80e8947cfdbd"
      },
      "source": [
        "import matplotlib.pyplot as plt\n",
        "\n",
        "#Distribution of a particle in a classical random walk. \n",
        "classical_positions = walk_the_line(1000,2**M,1,.5)\n",
        "_ = plt.hist(classical_positions, density=True,bins=100,)"
      ],
      "execution_count": 36,
      "outputs": [
        {
          "output_type": "display_data",
          "data": {
            "image/png": "[encoded data removed]",
            "text/plain": [
              "<Figure size 432x288 with 1 Axes>"
            ]
          },
          "metadata": {
            "tags": [],
            "needs_background": "light"
          }
        }
      ]
    },
    {
      "cell_type": "code",
      "metadata": {
        "colab": {
          "base_uri": "https://localhost:8080/",
          "height": 265
        },
        "id": "Uv7_8rKW2a02",
        "outputId": "a974cc4f-2208-4d18-d77f-5eddc669bc3d"
      },
      "source": [
        "#Distribution of the final position of the particle in a quantum random walk. \n",
        "_ = plt.bar(position,probabilities,width=2)"
      ],
      "execution_count": 37,
      "outputs": [
        {
          "output_type": "display_data",
          "data": {
            "image/png": "[encoded data removed]",
            "text/plain": [
              "<Figure size 432x288 with 1 Axes>"
            ]
          },
          "metadata": {
            "tags": [],
            "needs_background": "light"
          }
        }
      ]
    },
    {
      "cell_type": "code",
      "metadata": {
        "id": "gu8nzGQx2unJ"
      },
      "source": [
        ""
      ],
      "execution_count": 37,
      "outputs": []
    },
    {
      "cell_type": "code",
      "metadata": {
        "id": "LL0Bc_dx4f9D"
      },
      "source": [
        ""
      ],
      "execution_count": 37,
      "outputs": []
    }
  ]
}