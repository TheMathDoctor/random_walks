{
  "nbformat": 4,
  "nbformat_minor": 0,
  "metadata": {
    "colab": {
      "name": "qiskit_quantum_walk.ipynb",
      "provenance": [],
      "collapsed_sections": []
    },
    "kernelspec": {
      "name": "python3",
      "display_name": "Python 3"
    }
  },
  "cells": [
    {
      "cell_type": "code",
      "metadata": {
        "id": "p6c6mAwQvd0g"
      },
      "source": [
        "!pip install qiskit\n",
        "\n",
        "from IPython.display import clear_output\n",
        "clear_output()"
      ],
      "execution_count": 2,
      "outputs": []
    },
    {
      "cell_type": "code",
      "metadata": {
        "id": "DJJdvaRlv_kR"
      },
      "source": [
        "import numpy as np\n",
        "from qiskit.quantum_info import Operator\n",
        "from qiskit import QuantumCircuit"
      ],
      "execution_count": 3,
      "outputs": []
    },
    {
      "cell_type": "code",
      "metadata": {
        "id": "eOr1xtcCwYLr"
      },
      "source": [
        "#Create Shift Operator\n",
        "\n",
        "#modulo N creation operator. Have to make modulo N so that it's unitary. \n",
        "def creation_operator(N):\n",
        "  A = np.zeros((N,N))\n",
        "  for i in range(N-1):\n",
        "    A[i,i+1]=1\n",
        "  A[N-1,0]=1\n",
        "  return A\n",
        "\n",
        "def creation_operator_gate(N):\n",
        "  A = np.zeros((N,N))\n",
        "  for i in range(N-1):\n",
        "    A[i,i+1]=1\n",
        "  A[N-1,0]=1\n",
        "  return Operator(A)\n",
        "\n",
        "#control shift operator = proj0 tensor A + proj1 tensor A*. Shifts N qubits with an ancilliary qubit being the control. \n",
        "#So rank is N+1 x N+1 not NxN\n",
        "def control_shift(N):\n",
        "  A = creation_operator(N)\n",
        "  proj0,proj1 = np.zeros((2,2)), np.zeros((2,2))\n",
        "  proj0[0,0] ,proj1[1,1] = 1, 1\n",
        "  CS = np.kron(proj0,A) + np.kron(proj1, np.transpose(A))\n",
        "  CS = Operator(CS)\n",
        "  return CS\n",
        "\n"
      ],
      "execution_count": 4,
      "outputs": []
    },
    {
      "cell_type": "code",
      "metadata": {
        "id": "K-3ejD2pxC_N"
      },
      "source": [
        "#Create random walk circuit\n",
        "#Considers the origin to be (N+1//2,0) so I don't have to wrap around. \n",
        "def quantum_random_walk(N,simulation_time,coin):\n",
        "  #max simultation time without wrap around is 2**(N-1) \n",
        "  walk = QuantumCircuit(N+1)\n",
        "  #shift origin to 2**(N-1)\n",
        "  indices = [k+1 for k in range(N)]\n",
        "  for k in range(N//2):\n",
        "    walk.append(creation_operator_gate(2**N),indices)\n",
        "\n",
        "  #qubit 0 is the control qubit\n",
        "  #h for hadamard coin\n",
        "  CS = control_shift(2**N)\n",
        "  if (coin == 'h'):\n",
        "    for k in range(2**(N-1)):\n",
        "      walk.h(0)\n",
        "      walk.append(CS,range(N+1))\n",
        "  return walk\n",
        "\n",
        "\n"
      ],
      "execution_count": 5,
      "outputs": []
    },
    {
      "cell_type": "code",
      "metadata": {
        "id": "CrjQz6twvO6Q"
      },
      "source": [
        "M=9\n",
        "simulation_time = 2**(M-1)\n",
        "coin = 'h'"
      ],
      "execution_count": 6,
      "outputs": []
    },
    {
      "cell_type": "code",
      "metadata": {
        "colab": {
          "base_uri": "https://localhost:8080/"
        },
        "id": "AG-1L9USxHOz",
        "outputId": "10e5798a-0fa9-4d36-e408-aa475e640e0c"
      },
      "source": [
        "qc = QuantumCircuit(M,M)\n",
        "qc.append(quantum_random_walk(M-1,simulation_time,'h'),range(M))\n",
        "qc.measure(range(M),range(M))"
      ],
      "execution_count": 7,
      "outputs": [
        {
          "output_type": "execute_result",
          "data": {
            "text/plain": [
              "<qiskit.circuit.instructionset.InstructionSet at 0x7fd848c5e0f0>"
            ]
          },
          "metadata": {
            "tags": []
          },
          "execution_count": 7
        }
      ]
    },
    {
      "cell_type": "code",
      "metadata": {
        "colab": {
          "base_uri": "https://localhost:8080/"
        },
        "id": "-zOXuoa_xHxc",
        "outputId": "ba6f1ef0-58a1-424a-918f-d6955b168edd"
      },
      "source": [
        "\n",
        "\n",
        "from qiskit import IBMQ\n",
        "IBMQ.save_account(token)\n",
        "IBMQ.load_account()\n",
        "provider = IBMQ.get_provider(hub='ibm-q')"
      ],
      "execution_count": 8,
      "outputs": [
        {
          "output_type": "stream",
          "text": [
            "/usr/local/lib/python3.6/dist-packages/qiskit/providers/ibmq/ibmqfactory.py:192: UserWarning: Timestamps in IBMQ backend properties, jobs, and job results are all now in local time instead of UTC.\n",
            "  warnings.warn('Timestamps in IBMQ backend properties, jobs, and job results '\n"
          ],
          "name": "stderr"
        }
      ]
    },
    {
      "cell_type": "code",
      "metadata": {
        "id": "-13BIwDevtMo"
      },
      "source": [
        "from qiskit import Aer, execute\n",
        "simulator = Aer.get_backend('qasm_simulator')\n",
        "counts = execute(qc, simulator).result().get_counts(qc)\n"
      ],
      "execution_count": 9,
      "outputs": []
    },
    {
      "cell_type": "code",
      "metadata": {
        "id": "-Coq0r9IxS3P"
      },
      "source": [
        "keys = counts.keys()\n",
        "values = counts.values()\n",
        "\n",
        "coin_bit = list(keys)[0][0]\n",
        "#remove the coin bit, convert to decimal and shift back to the left\n",
        "position =[]\n",
        "for key in keys:\n",
        "  position.append(int(key[1:],2)-128)\n",
        "\n",
        "probabilities = list(values)"
      ],
      "execution_count": 46,
      "outputs": []
    },
    {
      "cell_type": "code",
      "metadata": {
        "id": "Mkk0JjZG11WR"
      },
      "source": [
        ""
      ],
      "execution_count": 78,
      "outputs": []
    },
    {
      "cell_type": "code",
      "metadata": {
        "id": "AOCN0lvv0eMq"
      },
      "source": [
        "#classical random walk\n",
        "def walk_the_line(N,K,step,p):\n",
        "  position=[]\n",
        "  for n in range(N):\n",
        "    X=0\n",
        "    for k in range(K):\n",
        "      coin = np.random.binomial(1,p)\n",
        "      X=X-step*(-1)**coin\n",
        "    position.append(X)\n",
        "  \n",
        "  return position"
      ],
      "execution_count": 58,
      "outputs": []
    },
    {
      "cell_type": "code",
      "metadata": {
        "colab": {
          "base_uri": "https://localhost:8080/",
          "height": 265
        },
        "id": "npR1utvq10b-",
        "outputId": "b71d488d-fbe3-4757-da81-af23ea4dd383"
      },
      "source": [
        "classical_positions = sorted(walk_the_line(1000,2**M,1,.5))\n",
        "_ = plt.hist(classical_positions, density=True,bins=100,)"
      ],
      "execution_count": 76,
      "outputs": [
        {
          "output_type": "display_data",
          "data": {
            "image/png": "[encoded data removed]",
            "text/plain": [
              "<Figure size 432x288 with 1 Axes>"
            ]
          },
          "metadata": {
            "tags": [],
            "needs_background": "light"
          }
        }
      ]
    },
    {
      "cell_type": "code",
      "metadata": {
        "colab": {
          "base_uri": "https://localhost:8080/",
          "height": 265
        },
        "id": "Uv7_8rKW2a02",
        "outputId": "d9f4fcb7-f579-46a0-810e-f3f640f2539e"
      },
      "source": [
        "_ = plt.bar(position,probabilities,width=1)"
      ],
      "execution_count": 78,
      "outputs": [
        {
          "output_type": "display_data",
          "data": {
            "image/png": "[encoded data removed]",
            "text/plain": [
              "<Figure size 432x288 with 1 Axes>"
            ]
          },
          "metadata": {
            "tags": [],
            "needs_background": "light"
          }
        }
      ]
    },
    {
      "cell_type": "code",
      "metadata": {
        "id": "gu8nzGQx2unJ"
      },
      "source": [
        ""
      ],
      "execution_count": 78,
      "outputs": []
    },
    {
      "cell_type": "code",
      "metadata": {
        "id": "LL0Bc_dx4f9D"
      },
      "source": [
        ""
      ],
      "execution_count": null,
      "outputs": []
    }
  ]
}